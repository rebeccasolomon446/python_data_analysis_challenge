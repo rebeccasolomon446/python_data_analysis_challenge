{
 "cells": [
  {
   "cell_type": "code",
   "execution_count": 25,
   "id": "94057bd6",
   "metadata": {},
   "outputs": [],
   "source": [
    "# Challenge"
   ]
  },
  {
   "cell_type": "code",
   "execution_count": 19,
   "id": "fe8e8690",
   "metadata": {},
   "outputs": [],
   "source": [
    "import pandas\n",
    "# read dataset:\n",
    "df = pandas.read_csv('sales_dataset.csv')\n",
    "\n",
    "def readcvsfile():\n",
    "    df = pan,\n",
    "    das.read_csv('sales_dataset.csv')\n",
    "    print(df)"
   ]
  },
  {
   "cell_type": "code",
   "execution_count": 20,
   "id": "98a02cf0",
   "metadata": {},
   "outputs": [
    {
     "name": "stdout",
     "output_type": "stream",
     "text": [
      "                Product Name     Category  Sale Price  Quantity Sold  \\\n",
      "0                   T-shirts     Clothing       10.99             20   \n",
      "1               Levi's Jeans     Clothing       59.99             18   \n",
      "2               Dyson Vacuum         Home      599.99              2   \n",
      "3                 Sunglasses  Accessories       21.22             15   \n",
      "4                 Headphones  Electronics        8.99             40   \n",
      "5              Water bottles  Accessories       14.14             22   \n",
      "6                  Backpacks  Accessories       18.99             27   \n",
      "7                       Hats  Accessories       29.99             35   \n",
      "8                      Books        Media       11.99             18   \n",
      "9                       Toys         Toys       17.99             29   \n",
      "10                    Apples         Food       10.99             32   \n",
      "11                Lawn mower      Outdoor      123.99             24   \n",
      "12            Samsung Galaxy  Electronics      899.99              5   \n",
      "13                 iPhone 13  Electronics     1299.99              3   \n",
      "14        Lululemon Yoga Mat      Fitness       89.99             15   \n",
      "15            Picture frames   Home decor       41.99              2   \n",
      "16                   Candles   Home decor        3.49             19   \n",
      "17               Apple Watch  Electronics      399.99              4   \n",
      "18         Oakley Sunglasses  Accessories      149.99             12   \n",
      "19           Fitbit Charge 5      Fitness      149.99              9   \n",
      "20              Harry Potter        Media       15.99             25   \n",
      "21               Phone cases  Electronics       12.04             25   \n",
      "22           Nest Thermostat         Home      249.99              6   \n",
      "23        Sony PlayStation 5  Electronics      499.99              4   \n",
      "24      Michael Kors Handbag  Accessories      349.99              8   \n",
      "25             Ninja Blender      Kitchen      129.99             10   \n",
      "26      Under Armour T-Shirt     Clothing       29.99             30   \n",
      "27           Amazon Echo Dot  Electronics       39.99             20   \n",
      "28          Patagonia Fleece     Clothing      119.99              6   \n",
      "29     Schwinn Exercise Bike      Fitness      499.99              3   \n",
      "30  Cuisinart Food Processor      Kitchen      199.99              4   \n",
      "31      iRobot Roomba Vacuum         Home      399.99              2   \n",
      "32            Sonos Soundbar  Electronics      799.99              1   \n",
      "\n",
      "        Month    Customer Name  \n",
      "0    December       John Smith  \n",
      "1       April   Samantha Davis  \n",
      "2      August   David Williams  \n",
      "3         May   Kelly Williams  \n",
      "4     October      Chris Brown  \n",
      "5      August          Amy Lee  \n",
      "6        July    William Smith  \n",
      "7   September      Emily Davis  \n",
      "8       March   Robert Johnson  \n",
      "9    December   Kimberly White  \n",
      "10       June  Michael Johnson  \n",
      "11   November   Samantha Davis  \n",
      "12  February          Jane Doe  \n",
      "13   December     Mark Johnson  \n",
      "14      April   Kelly Williams  \n",
      "15     August   Sarah Anderson  \n",
      "16   November        Kevin Lee  \n",
      "17  February    Robert Johnson  \n",
      "18       July   Kimberly White  \n",
      "19  September  Michael Johnson  \n",
      "20  February        John Smith  \n",
      "21        May     Mark Johnson  \n",
      "22       June  Elizabeth Brown  \n",
      "23   November       John Smith  \n",
      "24       July         Jane Doe  \n",
      "25      March      Chris Brown  \n",
      "26   December          Amy Lee  \n",
      "27      March      Emily Davis  \n",
      "28        May   Robert Johnson  \n",
      "29  September  Michael Johnson  \n",
      "30   December   Samantha Davis  \n",
      "31      April   David Williams  \n",
      "32     August  Elizabeth Brown  \n"
     ]
    }
   ],
   "source": [
    "readcvsfile()"
   ]
  },
  {
   "cell_type": "code",
   "execution_count": 21,
   "id": "81e03b1a",
   "metadata": {},
   "outputs": [],
   "source": [
    "# Task 1: Calculate the total sales for each product\n",
    "# function to calculate total sales of each product, by adding a Total Sales column to the dataframe\n",
    "def total_sales():\n",
    "    df['Total Sales'] = df['Sale Price'] * df['Quantity Sold']\n",
    "    print(df)"
   ]
  },
  {
   "cell_type": "code",
   "execution_count": 22,
   "id": "73ef2b9d",
   "metadata": {},
   "outputs": [
    {
     "name": "stdout",
     "output_type": "stream",
     "text": [
      "                Product Name     Category  Sale Price  Quantity Sold  \\\n",
      "0                   T-shirts     Clothing       10.99             20   \n",
      "1               Levi's Jeans     Clothing       59.99             18   \n",
      "2               Dyson Vacuum         Home      599.99              2   \n",
      "3                 Sunglasses  Accessories       21.22             15   \n",
      "4                 Headphones  Electronics        8.99             40   \n",
      "5              Water bottles  Accessories       14.14             22   \n",
      "6                  Backpacks  Accessories       18.99             27   \n",
      "7                       Hats  Accessories       29.99             35   \n",
      "8                      Books        Media       11.99             18   \n",
      "9                       Toys         Toys       17.99             29   \n",
      "10                    Apples         Food       10.99             32   \n",
      "11                Lawn mower      Outdoor      123.99             24   \n",
      "12            Samsung Galaxy  Electronics      899.99              5   \n",
      "13                 iPhone 13  Electronics     1299.99              3   \n",
      "14        Lululemon Yoga Mat      Fitness       89.99             15   \n",
      "15            Picture frames   Home decor       41.99              2   \n",
      "16                   Candles   Home decor        3.49             19   \n",
      "17               Apple Watch  Electronics      399.99              4   \n",
      "18         Oakley Sunglasses  Accessories      149.99             12   \n",
      "19           Fitbit Charge 5      Fitness      149.99              9   \n",
      "20              Harry Potter        Media       15.99             25   \n",
      "21               Phone cases  Electronics       12.04             25   \n",
      "22           Nest Thermostat         Home      249.99              6   \n",
      "23        Sony PlayStation 5  Electronics      499.99              4   \n",
      "24      Michael Kors Handbag  Accessories      349.99              8   \n",
      "25             Ninja Blender      Kitchen      129.99             10   \n",
      "26      Under Armour T-Shirt     Clothing       29.99             30   \n",
      "27           Amazon Echo Dot  Electronics       39.99             20   \n",
      "28          Patagonia Fleece     Clothing      119.99              6   \n",
      "29     Schwinn Exercise Bike      Fitness      499.99              3   \n",
      "30  Cuisinart Food Processor      Kitchen      199.99              4   \n",
      "31      iRobot Roomba Vacuum         Home      399.99              2   \n",
      "32            Sonos Soundbar  Electronics      799.99              1   \n",
      "\n",
      "        Month    Customer Name  Total Sales  \n",
      "0    December       John Smith       219.80  \n",
      "1       April   Samantha Davis      1079.82  \n",
      "2      August   David Williams      1199.98  \n",
      "3         May   Kelly Williams       318.30  \n",
      "4     October      Chris Brown       359.60  \n",
      "5      August          Amy Lee       311.08  \n",
      "6        July    William Smith       512.73  \n",
      "7   September      Emily Davis      1049.65  \n",
      "8       March   Robert Johnson       215.82  \n",
      "9    December   Kimberly White       521.71  \n",
      "10       June  Michael Johnson       351.68  \n",
      "11   November   Samantha Davis      2975.76  \n",
      "12  February          Jane Doe      4499.95  \n",
      "13   December     Mark Johnson      3899.97  \n",
      "14      April   Kelly Williams      1349.85  \n",
      "15     August   Sarah Anderson        83.98  \n",
      "16   November        Kevin Lee        66.31  \n",
      "17  February    Robert Johnson      1599.96  \n",
      "18       July   Kimberly White      1799.88  \n",
      "19  September  Michael Johnson      1349.91  \n",
      "20  February        John Smith       399.75  \n",
      "21        May     Mark Johnson       301.00  \n",
      "22       June  Elizabeth Brown      1499.94  \n",
      "23   November       John Smith      1999.96  \n",
      "24       July         Jane Doe      2799.92  \n",
      "25      March      Chris Brown      1299.90  \n",
      "26   December          Amy Lee       899.70  \n",
      "27      March      Emily Davis       799.80  \n",
      "28        May   Robert Johnson       719.94  \n",
      "29  September  Michael Johnson      1499.97  \n",
      "30   December   Samantha Davis       799.96  \n",
      "31      April   David Williams       799.98  \n",
      "32     August  Elizabeth Brown       799.99  \n"
     ]
    }
   ],
   "source": [
    "total_sales()"
   ]
  },
  {
   "cell_type": "code",
   "execution_count": 69,
   "id": "3b06ddc0",
   "metadata": {},
   "outputs": [],
   "source": [
    "# add the dataframe to the results cvs file\n",
    "df.to_csv('results.csv', index=False)"
   ]
  },
  {
   "cell_type": "code",
   "execution_count": 24,
   "id": "aedb7f1c",
   "metadata": {},
   "outputs": [],
   "source": [
    "# Task 2: Determine the average sale price for each product category \n",
    "def avg_price_per_category():\n",
    "    avg_price = df.groupby(['Category'])['Sale Price'].mean()\n",
    "    print(avg_price)"
   ]
  },
  {
   "cell_type": "code",
   "execution_count": 25,
   "id": "79fad95d",
   "metadata": {},
   "outputs": [
    {
     "name": "stdout",
     "output_type": "stream",
     "text": [
      "Category\n",
      "Accessories     97.386667\n",
      "Clothing        55.240000\n",
      "Electronics    495.121250\n",
      "Fitness        246.656667\n",
      "Food            10.990000\n",
      "Home           416.656667\n",
      "Home decor      22.740000\n",
      "Kitchen        164.990000\n",
      "Media           13.990000\n",
      "Outdoor        123.990000\n",
      "Toys            17.990000\n",
      "Name: Sale Price, dtype: float64\n"
     ]
    }
   ],
   "source": [
    "avg_price_per_category()"
   ]
  },
  {
   "cell_type": "code",
   "execution_count": 26,
   "id": "8afe1aaf",
   "metadata": {},
   "outputs": [],
   "source": [
    "# creating a new dataframe and writing it to the results csv file"
   ]
  },
  {
   "cell_type": "code",
   "execution_count": 36,
   "id": "a51b60a9",
   "metadata": {},
   "outputs": [
    {
     "name": "stdout",
     "output_type": "stream",
     "text": [
      "       Category  Average Sale Price\n",
      "0   Accessories           97.386667\n",
      "1      Clothing           55.240000\n",
      "2   Electronics          495.121250\n",
      "3       Fitness          246.656667\n",
      "4          Food           10.990000\n",
      "5          Home          416.656667\n",
      "6    Home decor           22.740000\n",
      "7       Kitchen          164.990000\n",
      "8         Media           13.990000\n",
      "9       Outdoor          123.990000\n",
      "10         Toys           17.990000\n"
     ]
    }
   ],
   "source": [
    "# converts grouped data to a new df using reset_index\n",
    "avg_price = df.groupby(['Category'])['Sale Price'].mean()\n",
    "df2 = avg_price.reset_index()\n",
    "# change header from Sale Price to Average Sale Price\n",
    "df2.columns = ['Category', 'Average Sale Price']\n",
    "print(df2)"
   ]
  },
  {
   "cell_type": "code",
   "execution_count": 84,
   "id": "f6d55824",
   "metadata": {},
   "outputs": [
    {
     "ename": "ValueError",
     "evalue": "invalid mode: 'a\n'",
     "output_type": "error",
     "traceback": [
      "\u001b[1;31m---------------------------------------------------------------------------\u001b[0m",
      "\u001b[1;31mValueError\u001b[0m                                Traceback (most recent call last)",
      "\u001b[1;32m~\\AppData\\Local\\Temp\\ipykernel_29532\\2555129112.py\u001b[0m in \u001b[0;36m<module>\u001b[1;34m\u001b[0m\n\u001b[0;32m      1\u001b[0m \u001b[1;31m# writing df2 to the results csv file\u001b[0m\u001b[1;33m\u001b[0m\u001b[1;33m\u001b[0m\u001b[0m\n\u001b[1;32m----> 2\u001b[1;33m \u001b[0mdf2\u001b[0m\u001b[1;33m.\u001b[0m\u001b[0mto_csv\u001b[0m\u001b[1;33m(\u001b[0m\u001b[1;34m\"results.csv\"\u001b[0m\u001b[1;33m,\u001b[0m \u001b[0mindex\u001b[0m\u001b[1;33m=\u001b[0m\u001b[1;32mFalse\u001b[0m\u001b[1;33m,\u001b[0m \u001b[0mmode\u001b[0m\u001b[1;33m=\u001b[0m\u001b[1;34m\"a\"\u001b[0m \u001b[1;33m+\u001b[0m \u001b[1;34m'\\n'\u001b[0m\u001b[1;33m)\u001b[0m\u001b[1;33m\u001b[0m\u001b[1;33m\u001b[0m\u001b[0m\n\u001b[0m",
      "\u001b[1;32m~\\anaconda3\\lib\\site-packages\\pandas\\core\\generic.py\u001b[0m in \u001b[0;36mto_csv\u001b[1;34m(self, path_or_buf, sep, na_rep, float_format, columns, header, index, index_label, mode, encoding, compression, quoting, quotechar, line_terminator, chunksize, date_format, doublequote, escapechar, decimal, errors, storage_options)\u001b[0m\n\u001b[0;32m   3549\u001b[0m         )\n\u001b[0;32m   3550\u001b[0m \u001b[1;33m\u001b[0m\u001b[0m\n\u001b[1;32m-> 3551\u001b[1;33m         return DataFrameRenderer(formatter).to_csv(\n\u001b[0m\u001b[0;32m   3552\u001b[0m             \u001b[0mpath_or_buf\u001b[0m\u001b[1;33m,\u001b[0m\u001b[1;33m\u001b[0m\u001b[1;33m\u001b[0m\u001b[0m\n\u001b[0;32m   3553\u001b[0m             \u001b[0mline_terminator\u001b[0m\u001b[1;33m=\u001b[0m\u001b[0mline_terminator\u001b[0m\u001b[1;33m,\u001b[0m\u001b[1;33m\u001b[0m\u001b[1;33m\u001b[0m\u001b[0m\n",
      "\u001b[1;32m~\\anaconda3\\lib\\site-packages\\pandas\\io\\formats\\format.py\u001b[0m in \u001b[0;36mto_csv\u001b[1;34m(self, path_or_buf, encoding, sep, columns, index_label, mode, compression, quoting, quotechar, line_terminator, chunksize, date_format, doublequote, escapechar, errors, storage_options)\u001b[0m\n\u001b[0;32m   1178\u001b[0m             \u001b[0mformatter\u001b[0m\u001b[1;33m=\u001b[0m\u001b[0mself\u001b[0m\u001b[1;33m.\u001b[0m\u001b[0mfmt\u001b[0m\u001b[1;33m,\u001b[0m\u001b[1;33m\u001b[0m\u001b[1;33m\u001b[0m\u001b[0m\n\u001b[0;32m   1179\u001b[0m         )\n\u001b[1;32m-> 1180\u001b[1;33m         \u001b[0mcsv_formatter\u001b[0m\u001b[1;33m.\u001b[0m\u001b[0msave\u001b[0m\u001b[1;33m(\u001b[0m\u001b[1;33m)\u001b[0m\u001b[1;33m\u001b[0m\u001b[1;33m\u001b[0m\u001b[0m\n\u001b[0m\u001b[0;32m   1181\u001b[0m \u001b[1;33m\u001b[0m\u001b[0m\n\u001b[0;32m   1182\u001b[0m         \u001b[1;32mif\u001b[0m \u001b[0mcreated_buffer\u001b[0m\u001b[1;33m:\u001b[0m\u001b[1;33m\u001b[0m\u001b[1;33m\u001b[0m\u001b[0m\n",
      "\u001b[1;32m~\\anaconda3\\lib\\site-packages\\pandas\\io\\formats\\csvs.py\u001b[0m in \u001b[0;36msave\u001b[1;34m(self)\u001b[0m\n\u001b[0;32m    239\u001b[0m         \"\"\"\n\u001b[0;32m    240\u001b[0m         \u001b[1;31m# apply compression and byte/text conversion\u001b[0m\u001b[1;33m\u001b[0m\u001b[1;33m\u001b[0m\u001b[0m\n\u001b[1;32m--> 241\u001b[1;33m         with get_handle(\n\u001b[0m\u001b[0;32m    242\u001b[0m             \u001b[0mself\u001b[0m\u001b[1;33m.\u001b[0m\u001b[0mfilepath_or_buffer\u001b[0m\u001b[1;33m,\u001b[0m\u001b[1;33m\u001b[0m\u001b[1;33m\u001b[0m\u001b[0m\n\u001b[0;32m    243\u001b[0m             \u001b[0mself\u001b[0m\u001b[1;33m.\u001b[0m\u001b[0mmode\u001b[0m\u001b[1;33m,\u001b[0m\u001b[1;33m\u001b[0m\u001b[1;33m\u001b[0m\u001b[0m\n",
      "\u001b[1;32m~\\anaconda3\\lib\\site-packages\\pandas\\io\\common.py\u001b[0m in \u001b[0;36mget_handle\u001b[1;34m(path_or_buf, mode, encoding, compression, memory_map, is_text, errors, storage_options)\u001b[0m\n\u001b[0;32m    784\u001b[0m         \u001b[1;32mif\u001b[0m \u001b[0mioargs\u001b[0m\u001b[1;33m.\u001b[0m\u001b[0mencoding\u001b[0m \u001b[1;32mand\u001b[0m \u001b[1;34m\"b\"\u001b[0m \u001b[1;32mnot\u001b[0m \u001b[1;32min\u001b[0m \u001b[0mioargs\u001b[0m\u001b[1;33m.\u001b[0m\u001b[0mmode\u001b[0m\u001b[1;33m:\u001b[0m\u001b[1;33m\u001b[0m\u001b[1;33m\u001b[0m\u001b[0m\n\u001b[0;32m    785\u001b[0m             \u001b[1;31m# Encoding\u001b[0m\u001b[1;33m\u001b[0m\u001b[1;33m\u001b[0m\u001b[0m\n\u001b[1;32m--> 786\u001b[1;33m             handle = open(\n\u001b[0m\u001b[0;32m    787\u001b[0m                 \u001b[0mhandle\u001b[0m\u001b[1;33m,\u001b[0m\u001b[1;33m\u001b[0m\u001b[1;33m\u001b[0m\u001b[0m\n\u001b[0;32m    788\u001b[0m                 \u001b[0mioargs\u001b[0m\u001b[1;33m.\u001b[0m\u001b[0mmode\u001b[0m\u001b[1;33m,\u001b[0m\u001b[1;33m\u001b[0m\u001b[1;33m\u001b[0m\u001b[0m\n",
      "\u001b[1;31mValueError\u001b[0m: invalid mode: 'a\n'"
     ]
    }
   ],
   "source": [
    "# writing df2 to the results csv file\n",
    "df2.to_csv(\"results.csv\", index=False, mode=\"a\")"
   ]
  },
  {
   "cell_type": "code",
   "execution_count": 71,
   "id": "1cd63c68",
   "metadata": {},
   "outputs": [],
   "source": [
    "# Task 3: Identify the month with the highest sales and the month with the lowest sales"
   ]
  },
  {
   "cell_type": "code",
   "execution_count": 60,
   "id": "579455d6",
   "metadata": {},
   "outputs": [],
   "source": [
    "# create new df grouped by Month to get the max Total Sales\n",
    "max = df.groupby(['Month'])['Total Sales'].max()\n",
    "df3 = max.reset_index()"
   ]
  },
  {
   "cell_type": "code",
   "execution_count": 73,
   "id": "02322056",
   "metadata": {
    "scrolled": false
   },
   "outputs": [
    {
     "name": "stdout",
     "output_type": "stream",
     "text": [
      "        Month  Total Sales\n",
      "0       April      1349.85\n",
      "1      August      1199.98\n",
      "2    December      3899.97\n",
      "3   February       4499.95\n",
      "4        July      2799.92\n",
      "5        June      1499.94\n",
      "6       March      1299.90\n",
      "7         May       719.94\n",
      "8    November      2975.76\n",
      "9     October       359.60\n",
      "10  September      1499.97\n"
     ]
    }
   ],
   "source": [
    "print(df3)"
   ]
  },
  {
   "cell_type": "code",
   "execution_count": 76,
   "id": "a8a2a8dc",
   "metadata": {},
   "outputs": [],
   "source": [
    "# writing df3 to the results csv file\n",
    "df3.to_csv(\"results.csv\", index=False, mode=\"a\")"
   ]
  },
  {
   "cell_type": "code",
   "execution_count": 72,
   "id": "66074485",
   "metadata": {},
   "outputs": [],
   "source": [
    "# function that locates the max value from the Total Sales column for df3\n",
    "def max_sale_by_month():\n",
    "    max_val = df3.loc[df3['Total Sales'].idxmax()]\n",
    "    print(max_val)"
   ]
  },
  {
   "cell_type": "code",
   "execution_count": 56,
   "id": "7467e6bf",
   "metadata": {},
   "outputs": [
    {
     "name": "stdout",
     "output_type": "stream",
     "text": [
      "Month              February \n",
      "Max Total Sales      4499.95\n",
      "Name: 3, dtype: object\n"
     ]
    }
   ],
   "source": [
    "max_sale_by_month()"
   ]
  },
  {
   "cell_type": "code",
   "execution_count": 59,
   "id": "4970616a",
   "metadata": {},
   "outputs": [],
   "source": [
    "# function that locates the max value from the Total Sales column for df3\n",
    "def min_sale_by_month():\n",
    "    min_val = df3.loc[df3['Total Sales'].idxmin()]\n",
    "    print(min_val)"
   ]
  },
  {
   "cell_type": "code",
   "execution_count": 58,
   "id": "67473ec2",
   "metadata": {},
   "outputs": [
    {
     "name": "stdout",
     "output_type": "stream",
     "text": [
      "Month              October\n",
      "Max Total Sales      359.6\n",
      "Name: 9, dtype: object\n"
     ]
    }
   ],
   "source": [
    "min_sale_by_month()"
   ]
  },
  {
   "cell_type": "code",
   "execution_count": 77,
   "id": "3687c1d7",
   "metadata": {},
   "outputs": [
    {
     "data": {
      "image/png": "[encoded data removed]",
      "text/plain": [
       "<Figure size 640x480 with 1 Axes>"
      ]
     },
     "metadata": {},
     "output_type": "display_data"
    }
   ],
   "source": [
    "# using seaborn to plot df3 data to visually see the max and min total sales by month\n",
    "bar_chart1 = sns.barplot(data=df3, x='Month', y='Total Sales')\n",
    "bar_chart1.tick_params(axis='x', rotation=90)"
   ]
  },
  {
   "cell_type": "code",
   "execution_count": 81,
   "id": "ef2f5126",
   "metadata": {},
   "outputs": [
    {
     "name": "stdout",
     "output_type": "stream",
     "text": [
      "      Customer Name  Sum of Quantity Sold\n",
      "0         Kevin Lee                    19\n",
      "1           Amy Lee                    52\n",
      "2       Chris Brown                    50\n",
      "3    David Williams                     4\n",
      "4   Elizabeth Brown                     7\n",
      "5       Emily Davis                    55\n",
      "6          Jane Doe                    13\n",
      "7        John Smith                    49\n",
      "8    Kelly Williams                    30\n",
      "9    Kimberly White                    41\n",
      "10     Mark Johnson                    28\n",
      "11  Michael Johnson                    44\n",
      "12   Robert Johnson                    28\n",
      "13   Samantha Davis                    46\n",
      "14   Sarah Anderson                     2\n",
      "15    William Smith                    27\n"
     ]
    }
   ],
   "source": [
    "# Task 4: Determine which customers made the most purchases and how much they spent in total:\n",
    "# create new df that is grouped by Customer name, and sums their Quantity sold:\n",
    "sold = df.groupby(['Customer Name'])['Quantity Sold'].sum()\n",
    "df4 = sold.reset_index()\n",
    "# change header title to Sum of Quantity Sold\n",
    "df4.columns = ['Customer Name', 'Sum of Quantity Sold']\n",
    "print(df4)"
   ]
  },
  {
   "cell_type": "code",
   "execution_count": 82,
   "id": "ec61c2b7",
   "metadata": {},
   "outputs": [],
   "source": [
    "# writing df4 to the results csv file\n",
    "df4.to_csv(\"results.csv\", index=False, mode=\"a\")"
   ]
  },
  {
   "cell_type": "code",
   "execution_count": 51,
   "id": "58a1fb90",
   "metadata": {},
   "outputs": [
    {
     "data": {
      "image/png": "[encoded data removed]",
      "text/plain": [
       "<Figure size 640x480 with 1 Axes>"
      ]
     },
     "metadata": {},
     "output_type": "display_data"
    }
   ],
   "source": [
    "import seaborn as sns\n",
    "# can use seaborn to visualsise df4 as a bar chart to visually see which customer spent the most\n",
    "bar_chart2 = sns.barplot(data=df4, x='Customer Name', y='Sum of Quantity Sold')\n",
    "bar_chart2.tick_params(axis='x', rotation=90)"
   ]
  },
  {
   "cell_type": "code",
   "execution_count": 42,
   "id": "4572cf7a",
   "metadata": {},
   "outputs": [],
   "source": [
    "# function to find the customer who spent the most:\n",
    "def max_quantity():\n",
    "    maxq = df4.loc[df4['Sum of Quantity Sold'].idxmax()]\n",
    "    print(maxq)"
   ]
  },
  {
   "cell_type": "code",
   "execution_count": 43,
   "id": "c5b36400",
   "metadata": {},
   "outputs": [
    {
     "name": "stdout",
     "output_type": "stream",
     "text": [
      "Customer Name           Emily Davis\n",
      "Sum of Quantity Sold             55\n",
      "Name: 5, dtype: object\n"
     ]
    }
   ],
   "source": [
    "max_quantity()"
   ]
  }
 ],
 "metadata": {
  "kernelspec": {
   "display_name": "Python 3 (ipykernel)",
   "language": "python",
   "name": "python3"
  },
  "language_info": {
   "codemirror_mode": {
    "name": "ipython",
    "version": 3
   },
   "file_extension": ".py",
   "mimetype": "text/x-python",
   "name": "python",
   "nbconvert_exporter": "python",
   "pygments_lexer": "ipython3",
   "version": "3.9.13"
  }
 },
 "nbformat": 4,
 "nbformat_minor": 5
}
